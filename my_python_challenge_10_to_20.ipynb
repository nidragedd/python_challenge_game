{
 "cells": [
  {
   "cell_type": "code",
   "execution_count": 2,
   "metadata": {},
   "outputs": [],
   "source": [
    "import os\n",
    "import re\n",
    "import requests\n",
    "import pickle\n",
    "from pathlib import Path\n",
    "import zipfile\n",
    "from PIL import Image\n",
    "import numpy as np\n",
    "import bz2\n",
    "import matplotlib.pyplot as plt\n",
    "\n",
    "# Directory where files are stored. Will be used each time we need to load a file\n",
    "file_directory = os.path.join(os.getcwd(), 'files')\n",
    "data_folder = Path(file_directory)"
   ]
  },
  {
   "cell_type": "markdown",
   "metadata": {},
   "source": [
    "# [Step 11](http://www.pythonchallenge.com/pc/return/5808.html)\n",
    "One single image + the HTML title that says 'odd + even'. It seems that there are 2 pictures mixed in the same image..."
   ]
  },
  {
   "cell_type": "code",
   "execution_count": 18,
   "metadata": {},
   "outputs": [],
   "source": [
    "file_to_load = os.path.join(file_directory, 'evil1.jpg')\n",
    "im = Image.open(file_to_load)\n",
    "width = im.width\n",
    "height = im.height\n",
    "\n",
    "new_w = int(width / 2)\n",
    "\n",
    "im1 = Image.new('RGB', (new_w, height), color=0)\n",
    "im2 = Image.new('RGB', (new_w, height), color=0)\n",
    "y1 = 0\n",
    "for y in range(height):\n",
    "    x1 = 0\n",
    "    for x in range(width):\n",
    "        pixies = im.getpixel((x, y))\n",
    "        if y % 2 == 0:\n",
    "            if x % 2 == 0:\n",
    "                im1.putpixel((x1, y1), pixies)\n",
    "            else:\n",
    "                im2.putpixel((x1, y1), pixies)\n",
    "                x1 += 1\n",
    "        else:\n",
    "            if x % 2 == 1:\n",
    "                im1.putpixel((x1, y1), pixies)\n",
    "                x1 += 1\n",
    "            else:\n",
    "                im2.putpixel((x1, y1), pixies)\n",
    "    y1 += 1\n",
    "im1.show()\n",
    "im2.show()"
   ]
  },
  {
   "cell_type": "markdown",
   "metadata": {},
   "source": [
    "After image separation, a word appears on the first one: 'evil' !  \n",
    "# [Step 12](http://www.pythonchallenge.com/pc/return/evil.html)\n",
    "There is no clue but a single image named `evil1.jpg' and the HTML title page that says 'dealing evil'..."
   ]
  }
 ],
 "metadata": {
  "kernelspec": {
   "display_name": "Python 3",
   "language": "python",
   "name": "python3"
  },
  "language_info": {
   "codemirror_mode": {
    "name": "ipython",
    "version": 3
   },
   "file_extension": ".py",
   "mimetype": "text/x-python",
   "name": "python",
   "nbconvert_exporter": "python",
   "pygments_lexer": "ipython3",
   "version": "3.7.2"
  }
 },
 "nbformat": 4,
 "nbformat_minor": 1
}
