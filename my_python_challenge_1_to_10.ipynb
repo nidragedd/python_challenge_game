{
 "cells": [
  {
   "cell_type": "code",
   "execution_count": 170,
   "metadata": {},
   "outputs": [],
   "source": [
    "import os\n",
    "import re\n",
    "import requests\n",
    "import pickle\n",
    "from pathlib import Path\n",
    "import zipfile\n",
    "from PIL import Image\n",
    "import numpy as np\n",
    "import bz2\n",
    "import matplotlib.pyplot as plt\n",
    "\n",
    "# Directory where files are stored. Will be used each time we need to load a file\n",
    "file_directory = os.path.join(os.getcwd(), 'files')\n",
    "data_folder = Path(file_directory)"
   ]
  },
  {
   "cell_type": "markdown",
   "metadata": {
    "collapsed": true
   },
   "source": [
    "# [Warmup](http://www.pythonchallenge.com/pc/def/0.html)\n",
    "As shown on the picture, goal here is to compute 2^38. Easy peasy."
   ]
  },
  {
   "cell_type": "code",
   "execution_count": 3,
   "metadata": {},
   "outputs": [
    {
     "name": "stdout",
     "output_type": "stream",
     "text": [
      "274877906944\n"
     ]
    }
   ],
   "source": [
    "print(pow(2, 38))"
   ]
  },
  {
   "cell_type": "markdown",
   "metadata": {},
   "source": [
    "# [Step 01](http://www.pythonchallenge.com/pc/def/map.html)\n",
    "Letters are moved from 2 positions. I will use the ```ord``` function to get the ascii code and can then navigate and adapt."
   ]
  },
  {
   "cell_type": "code",
   "execution_count": 4,
   "metadata": {},
   "outputs": [
    {
     "name": "stdout",
     "output_type": "stream",
     "text": [
      "i hope you didnt translate it by hand. thats what computers are for. doing it in by hand is inefficient and that's why this text is so long. using string.maketrans() is recommended. now apply on the url.\n"
     ]
    }
   ],
   "source": [
    "str = \"g fmnc wms bgblr rpylqjyrc gr zw fylb. rfyrq ufyr amknsrcpq ypc dmp. bmgle gr gl zw fylb gq glcddgagclr \" \\\n",
    "            \"ylb rfyr'q ufw rfgq rcvr gq qm jmle. sqgle qrpgle.kyicrpylq() gq pcamkkclbcb. lmu ynnjw ml rfc spj.\"\n",
    "url = 'map'\n",
    "output = ''\n",
    "\n",
    "for character in str:\n",
    "    ascii_code = ord(character)\n",
    "    if ord('a') <= ascii_code <= ord('z'):\n",
    "        if (ascii_code + 2) > ord('z'):\n",
    "            output += chr(ord('a') - 1 + (ascii_code + 2) - ord('z'))\n",
    "        else:\n",
    "            output += chr(ascii_code + 2)\n",
    "    else:\n",
    "        output += character\n",
    "print(output)"
   ]
  },
  {
   "cell_type": "markdown",
   "metadata": {},
   "source": [
    "# [Step 02](http://www.pythonchallenge.com/pc/def/ocr.html)\n",
    "Elements of the riddle found in the sourcecode of the page have been copied to ```step02.txt``` file.  \n",
    "Here we need to find *rare* characters. My approach was to find all letters, no matter the case. It worked but did not really respect the riddle idea. I should have watched the number of occurrences because if there were also letters (but a few), this regexp would have found them as well."
   ]
  },
  {
   "cell_type": "code",
   "execution_count": 6,
   "metadata": {},
   "outputs": [
    {
     "name": "stdout",
     "output_type": "stream",
     "text": [
      "equality"
     ]
    }
   ],
   "source": [
    "# Assuming the kernel is running in this project directory (otherwise, adapt the line below)\n",
    "file_to_load = os.path.join(file_directory, 'step02.txt')\n",
    "content = ''\n",
    "if os.path.exists(file_to_load):\n",
    "    with open(file_to_load, 'rt') as f:\n",
    "        content = f.read()\n",
    "matches = re.findall('([a-zA-Z]+)', content)\n",
    "for i in matches:\n",
    "    print(i, end=\"\")"
   ]
  },
  {
   "cell_type": "markdown",
   "metadata": {},
   "source": [
    "# [Step 03](http://www.pythonchallenge.com/pc/def/equality.html)\n",
    "Elements of the riddle found in the sourcecode of the page have been copied to ```step03.txt``` file.  \n",
    "Here we need to find in the text all small letters which are surrounded by EXACTLY 3 uppercase letters (before and after and exactly 3, no more).  \n",
    "*Note: this code does not work if there are special characters in the content. Better way: `[^A-Z]` instead of [a-z]*"
   ]
  },
  {
   "cell_type": "code",
   "execution_count": 7,
   "metadata": {},
   "outputs": [
    {
     "name": "stdout",
     "output_type": "stream",
     "text": [
      "linkedlist"
     ]
    }
   ],
   "source": [
    "# Assuming the kernel is running in this project directory (otherwise, adapt the line below)\n",
    "file_to_load = os.path.join(file_directory, 'step03.txt')\n",
    "content = ''\n",
    "if os.path.exists(file_to_load):\n",
    "    with open(file_to_load, 'rt') as f:\n",
    "        content = f.read()\n",
    "matches = re.findall('[a-z][A-Z]{3}([a-z])[A-Z]{3}[a-z]', content)\n",
    "for a_match in matches:\n",
    "    print(a_match, end=\"\")\n"
   ]
  },
  {
   "cell_type": "markdown",
   "metadata": {},
   "source": [
    "# [Step 04](http://www.pythonchallenge.com/pc/def/linkedlist.html)\n",
    "Using requests to go to a new url each time we find a new number in the response content. Once the regexp does not match anymore it means we have solved the riddle. Next."
   ]
  },
  {
   "cell_type": "code",
   "execution_count": 71,
   "metadata": {},
   "outputs": [],
   "source": [
    "def read_from_source(url, file, addon_num):\n",
    "    if url:\n",
    "        url = 'http://www.pythonchallenge.com/pc/def/linkedlist.php?nothing='\n",
    "        r = requests.get(url + addon_num)\n",
    "        content = r.text\n",
    "    elif file:\n",
    "        file_name = addon_num + '.txt'\n",
    "        file_to_open = data_folder / \"channel\" / file_name\n",
    "        content = file_to_open.read_text()\n",
    "    return content\n",
    "\n",
    "def read_until_found(url, file, addon_num, display_counter_value):\n",
    "    found = False\n",
    "    counter = 0\n",
    "    comments = []\n",
    "    channel_zip_file = zipfile.ZipFile(data_folder / \"channel\" / \"channel.zip\")\n",
    "    \n",
    "    while not found:\n",
    "        content = read_from_source(url, file, addon_num)\n",
    "        if content.find('ext nothing is') < 0:\n",
    "            found = True\n",
    "            print('No more next nothing, found this text instead: \"{}\" for addon_num={}'.format(content, addon_num))\n",
    "            print('Comments collected are:\\n{}'.format(''.join(comments)))\n",
    "        else:\n",
    "            addon_num = \"\".join(re.findall('.*ext nothing is ([0-9]+)', content))\n",
    "            # Handle the specific case of Step 06\n",
    "            if file:\n",
    "                comments.append(channel_zip_file.getinfo(addon_num + '.txt').comment.decode(\"utf-8\"))\n",
    "        counter += 1\n",
    "        if counter % display_counter_value == 0:\n",
    "            print(\"{}: {}\".format(counter, content))"
   ]
  },
  {
   "cell_type": "code",
   "execution_count": 28,
   "metadata": {},
   "outputs": [
    {
     "name": "stdout",
     "output_type": "stream",
     "text": [
      "25: and the next nothing is 64994\n",
      "50: and the next nothing is 75494\n",
      "75: and the next nothing is 76841\n",
      "100: and the next nothing is 87890\n",
      "125: and the next nothing is 73950\n",
      "150: and the next nothing is 31785\n",
      "No more next nothing, found this text instead: \"peak.html\" for addon_num=66831\n"
     ]
    }
   ],
   "source": [
    "#addon_num = '12345'\n",
    "addon_num = '8022'\n",
    "read_until_found(True, False, addon_num, 25)"
   ]
  },
  {
   "cell_type": "markdown",
   "metadata": {},
   "source": [
    "# [Step 05](http://www.pythonchallenge.com/pc/def/peak.html)\n",
    "Looking at the page codesource, we can see that there is an element with banner.p as source. The content has been copied into ```step05.p```file.  \n",
    "A quick search on the internet and it seems that `p` is the extension for files saved with pickle module (ohhh ok...peak hell, pickle...ok...).  \n",
    "Loaded the file with pickle and saw a list of tuples with either a space character either a dash, always followed by a number.   \n",
    "Tried to check if there was any chance it would mean: number of occurrences of spaces/dashes to draw on each line.  \n",
    "It worked. Next !"
   ]
  },
  {
   "cell_type": "code",
   "execution_count": 10,
   "metadata": {},
   "outputs": [
    {
     "ename": "UnpicklingError",
     "evalue": "the STRING opcode argument must be quoted",
     "output_type": "error",
     "traceback": [
      "\u001b[1;31m---------------------------------------------------------------------------\u001b[0m",
      "\u001b[1;31mUnpicklingError\u001b[0m                           Traceback (most recent call last)",
      "\u001b[1;32m<ipython-input-10-88822c126c37>\u001b[0m in \u001b[0;36m<module>\u001b[1;34m\u001b[0m\n\u001b[0;32m      1\u001b[0m \u001b[0mfile_to_load\u001b[0m \u001b[1;33m=\u001b[0m \u001b[0mos\u001b[0m\u001b[1;33m.\u001b[0m\u001b[0mpath\u001b[0m\u001b[1;33m.\u001b[0m\u001b[0mjoin\u001b[0m\u001b[1;33m(\u001b[0m\u001b[0mfile_directory\u001b[0m\u001b[1;33m,\u001b[0m \u001b[1;34m'step05.p'\u001b[0m\u001b[1;33m)\u001b[0m\u001b[1;33m\u001b[0m\u001b[1;33m\u001b[0m\u001b[0m\n\u001b[1;32m----> 2\u001b[1;33m \u001b[0mcontent\u001b[0m \u001b[1;33m=\u001b[0m \u001b[0mpickle\u001b[0m\u001b[1;33m.\u001b[0m\u001b[0mloads\u001b[0m\u001b[1;33m(\u001b[0m\u001b[0mopen\u001b[0m\u001b[1;33m(\u001b[0m\u001b[0mfile_to_load\u001b[0m\u001b[1;33m,\u001b[0m \u001b[1;34m\"rb\"\u001b[0m\u001b[1;33m)\u001b[0m\u001b[1;33m.\u001b[0m\u001b[0mread\u001b[0m\u001b[1;33m(\u001b[0m\u001b[1;33m)\u001b[0m\u001b[1;33m)\u001b[0m\u001b[1;33m\u001b[0m\u001b[1;33m\u001b[0m\u001b[0m\n\u001b[0m\u001b[0;32m      3\u001b[0m \u001b[1;32mfor\u001b[0m \u001b[0mlines\u001b[0m \u001b[1;32min\u001b[0m \u001b[0mcontent\u001b[0m\u001b[1;33m:\u001b[0m\u001b[1;33m\u001b[0m\u001b[1;33m\u001b[0m\u001b[0m\n\u001b[0;32m      4\u001b[0m     \u001b[0mline\u001b[0m \u001b[1;33m=\u001b[0m \u001b[1;33m[\u001b[0m\u001b[0mcharacter\u001b[0m \u001b[1;33m*\u001b[0m \u001b[0mnb_occ\u001b[0m \u001b[1;32mfor\u001b[0m \u001b[0mcharacter\u001b[0m\u001b[1;33m,\u001b[0m \u001b[0mnb_occ\u001b[0m \u001b[1;32min\u001b[0m \u001b[0mlines\u001b[0m\u001b[1;33m]\u001b[0m\u001b[1;33m\u001b[0m\u001b[1;33m\u001b[0m\u001b[0m\n\u001b[0;32m      5\u001b[0m     \u001b[0mprint\u001b[0m\u001b[1;33m(\u001b[0m\u001b[1;34m\"\"\u001b[0m\u001b[1;33m.\u001b[0m\u001b[0mjoin\u001b[0m\u001b[1;33m(\u001b[0m\u001b[0mline\u001b[0m\u001b[1;33m)\u001b[0m\u001b[1;33m)\u001b[0m\u001b[1;33m\u001b[0m\u001b[1;33m\u001b[0m\u001b[0m\n",
      "\u001b[1;31mUnpicklingError\u001b[0m: the STRING opcode argument must be quoted"
     ]
    }
   ],
   "source": [
    "file_to_load = os.path.join(file_directory, 'step05.p')\n",
    "content = pickle.loads(open(file_to_load, \"rb\").read())\n",
    "for lines in content:\n",
    "    line = [character * nb_occ for character, nb_occ in lines]\n",
    "    print(\"\".join(line))\n"
   ]
  },
  {
   "cell_type": "markdown",
   "metadata": {},
   "source": [
    "# [Step 06](http://www.pythonchallenge.com/pc/def/channel.html)\n",
    "Replace `.html` by `.zip` in the riddle URL (pc/def/channel.html).  \n",
    "Download the zip and unzip it under `files/channel` directory.  \n",
    "Open the `readme.txt` file and follow instructions."
   ]
  },
  {
   "cell_type": "code",
   "execution_count": 72,
   "metadata": {},
   "outputs": [
    {
     "name": "stdout",
     "output_type": "stream",
     "text": [
      "50: Next nothing is 37695\n",
      "100: Next nothing is 56617\n",
      "150: Next nothing is 78862\n",
      "200: Next nothing is 30395\n",
      "250: Next nothing is 1063\n",
      "300: Next nothing is 41894\n",
      "350: Next nothing is 2539\n",
      "400: Next nothing is 49856\n",
      "450: Next nothing is 83168\n",
      "500: Next nothing is 81455\n",
      "550: Next nothing is 55621\n",
      "600: Next nothing is 89357\n",
      "650: Next nothing is 19812\n",
      "700: Next nothing is 72946\n",
      "750: Next nothing is 1228\n",
      "800: Next nothing is 24027\n",
      "850: Next nothing is 72452\n",
      "900: Next nothing is 15667\n",
      "No more next nothing, found this text instead: \"Collect the comments.\" for addon_num=46145\n",
      "Comments collected are:\n",
      "***************************************************************\n",
      "****************************************************************\n",
      "**                                                            **\n",
      "**   OO    OO    XX      YYYY    GG    GG  EEEEEE NN      NN  **\n",
      "**   OO    OO  XXXXXX   YYYYYY   GG   GG   EEEEEE  NN    NN   **\n",
      "**   OO    OO XXX  XXX YYY   YY  GG GG     EE       NN  NN    **\n",
      "**   OOOOOOOO XX    XX YY        GGG       EEEEE     NNNN     **\n",
      "**   OOOOOOOO XX    XX YY        GGG       EEEEE      NN      **\n",
      "**   OO    OO XXX  XXX YYY   YY  GG GG     EE         NN      **\n",
      "**   OO    OO  XXXXXX   YYYYYY   GG   GG   EEEEEE     NN      **\n",
      "**   OO    OO    XX      YYYY    GG    GG  EEEEEE     NN      **\n",
      "**                                                            **\n",
      "****************************************************************\n",
      " **************************************************************\n",
      "\n"
     ]
    }
   ],
   "source": [
    "addon_num = '90052'\n",
    "read_until_found(False, True, addon_num, 50)"
   ]
  },
  {
   "cell_type": "markdown",
   "metadata": {},
   "source": [
    "It seems that it is possible to add some comments in file when zipping them. Goal here is to read each one and concatenate them in the same reading order for the linked list. The method has been updated to do that and append comments in a list that is displayed in the end.  \n",
    "So the next riddle will be `hockey.html`.  \n",
    "Nothing, just a sentence: \"it's in the air. look at the letters\".  \n",
    "OK, having back a look at the previous word, we can see that it is built with O, X, Y, G, E and N: oxygen (it's in the air). \n",
    "\n",
    "# [Step 07](http://www.pythonchallenge.com/pc/def/oxygen.html)\n",
    "Greyscale pixels are at: 42px to 51px height and 608px width"
   ]
  },
  {
   "cell_type": "code",
   "execution_count": 104,
   "metadata": {},
   "outputs": [
    {
     "name": "stdout",
     "output_type": "stream",
     "text": [
      "[115, 115, 115, 115, 115, 109, 109, 109, 109, 109, 109, 109, 97, 97, 97, 97, 97, 97, 97, 114, 114, 114, 114, 114, 114, 114, 116, 116, 116, 116, 116, 116, 116, 32, 32, 32, 32, 32, 32, 32, 103, 103, 103, 103, 103, 103, 103, 117, 117, 117, 117, 117, 117, 117, 121, 121, 121, 121, 121, 121, 121, 44, 44, 44, 44, 44, 44, 44, 32, 32, 32, 32, 32, 32, 32, 121, 121, 121, 121, 121, 121, 121, 111, 111, 111, 111, 111, 111, 111, 117, 117, 117, 117, 117, 117, 117, 32, 32, 32, 32, 32, 32, 32, 109, 109, 109, 109, 109, 109, 109, 97, 97, 97, 97, 97, 97, 97, 100, 100, 100, 100, 100, 100, 100, 101, 101, 101, 101, 101, 101, 101, 32, 32, 32, 32, 32, 32, 32, 105, 105, 105, 105, 105, 105, 105, 116, 116, 116, 116, 116, 116, 116, 46, 46, 46, 46, 46, 46, 46, 32, 32, 32, 32, 32, 32, 32, 116, 116, 116, 116, 116, 116, 116, 104, 104, 104, 104, 104, 104, 104, 101, 101, 101, 101, 101, 101, 101, 32, 32, 32, 32, 32, 32, 32, 110, 110, 110, 110, 110, 110, 110, 101, 101, 101, 101, 101, 101, 101, 120, 120, 120, 120, 120, 120, 120, 116, 116, 116, 116, 116, 116, 116, 32, 32, 32, 32, 32, 32, 32, 108, 108, 108, 108, 108, 108, 108, 101, 101, 101, 101, 101, 101, 101, 118, 118, 118, 118, 118, 118, 118, 101, 101, 101, 101, 101, 101, 101, 108, 108, 108, 108, 108, 108, 108, 32, 32, 32, 32, 32, 32, 32, 105, 105, 105, 105, 105, 105, 105, 115, 115, 115, 115, 115, 115, 115, 32, 32, 32, 32, 32, 32, 32, 91, 91, 91, 91, 91, 91, 91, 49, 49, 49, 49, 49, 49, 49, 48, 48, 48, 48, 48, 48, 48, 53, 53, 53, 53, 53, 53, 53, 44, 44, 44, 44, 44, 44, 44, 32, 32, 32, 32, 32, 32, 32, 49, 49, 49, 49, 49, 49, 49, 49, 49, 49, 49, 49, 49, 49, 48, 48, 48, 48, 48, 48, 48, 44, 44, 44, 44, 44, 44, 44, 32, 32, 32, 32, 32, 32, 32, 49, 49, 49, 49, 49, 49, 49, 49, 49, 49, 49, 49, 49, 49, 54, 54, 54, 54, 54, 54, 54, 44, 44, 44, 44, 44, 44, 44, 32, 32, 32, 32, 32, 32, 32, 49, 49, 49, 49, 49, 49, 49, 48, 48, 48, 48, 48, 48, 48, 49, 49, 49, 49, 49, 49, 49, 44, 44, 44, 44, 44, 44, 44, 32, 32, 32, 32, 32, 32, 32, 49, 49, 49, 49, 49, 49, 49, 48, 48, 48, 48, 48, 48, 48, 51, 51, 51, 51, 51, 51, 51, 44, 44, 44, 44, 44, 44, 44, 32, 32, 32, 32, 32, 32, 32, 49, 49, 49, 49, 49, 49, 49, 49, 49, 49, 49, 49, 49, 49, 52, 52, 52, 52, 52, 52, 52, 44, 44, 44, 44, 44, 44, 44, 32, 32, 32, 32, 32, 32, 32, 49, 49, 49, 49, 49, 49, 49, 48, 48, 48, 48, 48, 48, 48, 53, 53, 53, 53, 53, 53, 53, 44, 44, 44, 44, 44, 44, 44, 32, 32, 32, 32, 32, 32, 32, 49, 49, 49, 49, 49, 49, 49, 49, 49, 49, 49, 49, 49, 49, 54, 54, 54, 54, 54, 54, 54, 44, 44, 44, 44, 44, 44, 44, 32, 32, 32, 32, 32, 32, 32, 49, 49, 49, 49, 49, 49, 49, 50, 50, 50, 50, 50, 50, 50, 49, 49, 49, 49, 49, 49, 49, 93, 93, 93, 93, 93, 93, 93, 93]\n",
      "\n",
      "smart guy, you made it. the next level is [105, 110, 116, 101, 103, 114, 105, 116, 121]\n"
     ]
    }
   ],
   "source": [
    "file_to_load = os.path.join(file_directory, 'oxygen.png')\n",
    "im = Image.open(file_to_load)\n",
    "# Grey picture is more or less from y = 42px to 51px over width =~ 608\n",
    "row = [im.getpixel((x, 44))[0] for x in range(608)]\n",
    "print(row)\n",
    "print()\n",
    "\n",
    "# Let's imagine that the value of the pixel is a character...\n",
    "counter = 0\n",
    "string = ''\n",
    "for r in row:\n",
    "    if counter % 7 == 0: # There is a repetition: each value is put 7 times\n",
    "        string += chr(r)\n",
    "    counter += 1\n",
    "\n",
    "\n",
    "print(string)"
   ]
  },
  {
   "cell_type": "code",
   "execution_count": 103,
   "metadata": {},
   "outputs": [
    {
     "name": "stdout",
     "output_type": "stream",
     "text": [
      "integrity\n"
     ]
    }
   ],
   "source": [
    "print(''.join(chr(x) for x in [105, 110, 116, 101, 103, 114, 105, 116, 121]))"
   ]
  },
  {
   "cell_type": "markdown",
   "metadata": {},
   "source": [
    "# [Step 08](http://www.pythonchallenge.com/pc/def/integrity.html)\n",
    "When clicking on the bee, it tries to open a link which is protected with Basic Authentication and it says also 'http://www.pythonchallenge.com is requesting your username and password. The site says: “inflate”'.  \n",
    "In source code, there are comments with what I guess are login and passwords encoded one way or another. Let's try to decrypt. "
   ]
  },
  {
   "cell_type": "code",
   "execution_count": 160,
   "metadata": {},
   "outputs": [
    {
     "name": "stdout",
     "output_type": "stream",
     "text": [
      "b'huge'\n",
      "b'file'\n"
     ]
    }
   ],
   "source": [
    "un = b'BZh91AY&SYA\\xaf\\x82\\r\\x00\\x00\\x01\\x01\\x80\\x02\\xc0\\x02\\x00 \\x00!\\x9ah3M\\x07<]\\xc9\\x14\\xe1BA\\x06\\xbe\\x084'\n",
    "pw = b'BZh91AY&SY\\x94$|\\x0e\\x00\\x00\\x00\\x81\\x00\\x03$ \\x00!\\x9ah3M\\x13<]\\xc9\\x14\\xe1BBP\\x91\\xf08'\n",
    "\n",
    "# Encoded 'un' & 'pw' stands for username and password which are compressed in BZip2 format (BZ at beginning + h for version 2)\n",
    "print(bz2.decompress(un))\n",
    "print(bz2.decompress(pw))"
   ]
  },
  {
   "cell_type": "markdown",
   "metadata": {},
   "source": [
    "# [Step 09](http://www.pythonchallenge.com/pc/return/good.html)\n",
    "first+second=?"
   ]
  },
  {
   "cell_type": "code",
   "execution_count": 175,
   "metadata": {},
   "outputs": [
    {
     "data": {
      "text/plain": [
       "<matplotlib.collections.PathCollection at 0x26466bbcb38>"
      ]
     },
     "execution_count": 175,
     "metadata": {},
     "output_type": "execute_result"
    },
    {
     "data": {
      "image/png": "[encoded data removed]",
      "text/plain": [
       "<Figure size 432x288 with 1 Axes>"
      ]
     },
     "metadata": {
      "needs_background": "light"
     },
     "output_type": "display_data"
    }
   ],
   "source": [
    "first = [146,399,163,403,170,393,169,391,166,386,170,381,170,371,170,355,169,346,167,335,170,329,170,320,170,\n",
    "310,171,301,173,290,178,289,182,287,188,286,190,286,192,291,194,296,195,305,194,307,191,312,190,316,\n",
    "190,321,192,331,193,338,196,341,197,346,199,352,198,360,197,366,197,373,196,380,197,383,196,387,192,\n",
    "389,191,392,190,396,189,400,194,401,201,402,208,403,213,402,216,401,219,397,219,393,216,390,215,385,\n",
    "215,379,213,373,213,365,212,360,210,353,210,347,212,338,213,329,214,319,215,311,215,306,216,296,218,\n",
    "290,221,283,225,282,233,284,238,287,243,290,250,291,255,294,261,293,265,291,271,291,273,289,278,287,\n",
    "279,285,281,280,284,278,284,276,287,277,289,283,291,286,294,291,296,295,299,300,301,304,304,320,305,\n",
    "327,306,332,307,341,306,349,303,354,301,364,301,371,297,375,292,384,291,386,302,393,324,391,333,387,\n",
    "328,375,329,367,329,353,330,341,331,328,336,319,338,310,341,304,341,285,341,278,343,269,344,262,346,\n",
    "259,346,251,349,259,349,264,349,273,349,280,349,288,349,295,349,298,354,293,356,286,354,279,352,268,\n",
    "352,257,351,249,350,234,351,211,352,197,354,185,353,171,351,154,348,147,342,137,339,132,330,122,327,\n",
    "120,314,116,304,117,293,118,284,118,281,122,275,128,265,129,257,131,244,133,239,134,228,136,221,137,\n",
    "214,138,209,135,201,132,192,130,184,131,175,129,170,131,159,134,157,134,160,130,170,125,176,114,176,\n",
    "102,173,103,172,108,171,111,163,115,156,116,149,117,142,116,136,115,129,115,124,115,120,115,115,117,\n",
    "113,120,109,122,102,122,100,121,95,121,89,115,87,110,82,109,84,118,89,123,93,129,100,130,108,132,110,\n",
    "133,110,136,107,138,105,140,95,138,86,141,79,149,77,155,81,162,90,165,97,167,99,171,109,171,107,161,\n",
    "111,156,113,170,115,185,118,208,117,223,121,239,128,251,133,259,136,266,139,276,143,290,148,310,151,\n",
    "332,155,348,156,353,153,366,149,379,147,394,146,399]\n",
    "\n",
    "second = [156,141,165,135,169,131,176,130,187,134,191,140,191,146,186,150,179,155,175,157,168,157,163,157,159,\n",
    "157,158,164,159,175,159,181,157,191,154,197,153,205,153,210,152,212,147,215,146,218,143,220,132,220,\n",
    "125,217,119,209,116,196,115,185,114,172,114,167,112,161,109,165,107,170,99,171,97,167,89,164,81,162,\n",
    "77,155,81,148,87,140,96,138,105,141,110,136,111,126,113,129,118,117,128,114,137,115,146,114,155,115,\n",
    "158,121,157,128,156,134,157,136,156,136]\n",
    "\n",
    "# I guess those are some coordinates. HTML title says 'connect the dots'\n",
    "# Build a function that will transform the table into 2-elements tuple list (x, Y) then plots the result with matplotlib\n",
    "def transform_to_tuples(l):\n",
    "    as_tuples = []\n",
    "    i = 0\n",
    "    while i < len(l) - 1:\n",
    "        t = (l[i], l[i + 1])\n",
    "        as_tuples.append(t)\n",
    "        i = i + 2\n",
    "    return as_tuples\n",
    "\n",
    "first_as_tuples = transform_to_tuples(first)\n",
    "second_as_tuples = transform_to_tuples(second)\n",
    "\n",
    "plt.scatter(*zip(*first_as_tuples))\n",
    "plt.scatter(*zip(*second_as_tuples))"
   ]
  },
  {
   "cell_type": "markdown",
   "metadata": {},
   "source": [
    "==> trying 'http://www.pythonchallenge.com/pc/return/cow.html' and it says 'hmm. it's a male.' ==> http://www.pythonchallenge.com/pc/return/bull.html\n",
    "\n",
    "# [Step 10](http://www.pythonchallenge.com/pc/return/bull.html)\n",
    "There is a link to a .txt file which contains 'a = 1, 11, 21, 1211, 111221, ' + the riddle says \"len(a[30]) = ?\"\n",
    "\n",
    "==> The riddle is \"how many characters when we'll arrive to 30 elements\" ? The sequence is:\n",
    "* 1\n",
    "* One '1'\n",
    "* Two '1'\n",
    "* One '2', One '1'\n",
    "and so on"
   ]
  },
  {
   "cell_type": "code",
   "execution_count": 180,
   "metadata": {},
   "outputs": [
    {
     "name": "stdout",
     "output_type": "stream",
     "text": [
      "5808\n"
     ]
    }
   ],
   "source": [
    "s = '1'\n",
    "total_count = 0\n",
    "a = []\n",
    "a.append(s)\n",
    "\n",
    "while total_count < 31:\n",
    "    new_s = ''\n",
    "    s_tmp = a[total_count]\n",
    "    previous_char = s_tmp[0]\n",
    "    inner_count = 0\n",
    "    for char in s_tmp:\n",
    "        if char == previous_char:\n",
    "            inner_count += 1\n",
    "        else:\n",
    "            new_s += str(inner_count) + previous_char\n",
    "            inner_count = 1\n",
    "            previous_char = char\n",
    "\n",
    "    new_s += str(inner_count) + previous_char\n",
    "\n",
    "    a.append(new_s)\n",
    "    total_count += 1\n",
    "\n",
    "print(len(a[30]))"
   ]
  }
 ],
 "metadata": {
  "kernelspec": {
   "display_name": "Python 3",
   "language": "python",
   "name": "python3"
  },
  "language_info": {
   "codemirror_mode": {
    "name": "ipython",
    "version": 3
   },
   "file_extension": ".py",
   "mimetype": "text/x-python",
   "name": "python",
   "nbconvert_exporter": "python",
   "pygments_lexer": "ipython3",
   "version": "3.7.2"
  }
 },
 "nbformat": 4,
 "nbformat_minor": 1
}
