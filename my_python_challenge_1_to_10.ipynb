{
 "cells": [
  {
   "cell_type": "markdown",
   "metadata": {
    "collapsed": true
   },
   "source": [
    "## Warmup\n",
    "As shown on the picture, goal here is to compute 2^38. Easy peasy."
   ]
  },
  {
   "cell_type": "code",
   "execution_count": 2,
   "metadata": {},
   "outputs": [],
   "source": [
    "# Directory where files are stored. Will be used each time we need to load a file\n",
    "file_directory = os.path.join(os.getcwd(), 'files')"
   ]
  },
  {
   "cell_type": "code",
   "execution_count": 8,
   "metadata": {},
   "outputs": [
    {
     "name": "stdout",
     "output_type": "stream",
     "text": [
      "274877906944\n"
     ]
    }
   ],
   "source": [
    "print(pow(2, 38))"
   ]
  },
  {
   "cell_type": "markdown",
   "metadata": {},
   "source": [
    "## Step 01\n",
    "Letters are moved from 2 positions. I use the ```ord``` function to get the ascii code and can then navigate and adapt."
   ]
  },
  {
   "cell_type": "code",
   "execution_count": 9,
   "metadata": {},
   "outputs": [
    {
     "name": "stdout",
     "output_type": "stream",
     "text": [
      "i hope you didnt translate it by hand. thats what computers are for. doing it in by hand is inefficient and that's why this text is so long. using string.maketrans() is recommended. now apply on the url.\n"
     ]
    }
   ],
   "source": [
    "str = \"g fmnc wms bgblr rpylqjyrc gr zw fylb. rfyrq ufyr amknsrcpq ypc dmp. bmgle gr gl zw fylb gq glcddgagclr \" \\\n",
    "            \"ylb rfyr'q ufw rfgq rcvr gq qm jmle. sqgle qrpgle.kyicrpylq() gq pcamkkclbcb. lmu ynnjw ml rfc spj.\"\n",
    "url = 'map'\n",
    "output = ''\n",
    "\n",
    "for character in str:\n",
    "    ascii_code = ord(character)\n",
    "    if ord('a') <= ascii_code <= ord('z'):\n",
    "        if (ascii_code + 2) > ord('z'):\n",
    "            output += chr(ord('a') - 1 + (ascii_code + 2) - ord('z'))\n",
    "        else:\n",
    "            output += chr(ascii_code + 2)\n",
    "    else:\n",
    "        output += character\n",
    "print(output)"
   ]
  },
  {
   "cell_type": "markdown",
   "metadata": {},
   "source": [
    "## Step 02\n",
    "Elements of the riddle found in the sourcecode of the page have been copied to ```step02.txt``` file.  \n",
    "Here we need to find *rare* characters. My approach was to find all letters, no matter the case. It worked but did not really respect the riddle idea. I should have watched the number of occurrences because if there were also letters (but a few), this regexp would have found them as well."
   ]
  },
  {
   "cell_type": "code",
   "execution_count": 3,
   "metadata": {},
   "outputs": [
    {
     "name": "stdout",
     "output_type": "stream",
     "text": [
      "equality"
     ]
    }
   ],
   "source": [
    "import os\n",
    "import re\n",
    "# Assuming the kernel is running in this project directory (otherwise, adapt the line below)\n",
    "file_to_load = os.path.join(file_directory, 'step02.txt')\n",
    "content = ''\n",
    "if os.path.exists(file_to_load):\n",
    "    with open(file_to_load, 'rt') as f:\n",
    "        content = f.read()\n",
    "matches = re.findall('([a-zA-Z]+)', content)\n",
    "for i in matches:\n",
    "    print(i, end=\"\")"
   ]
  },
  {
   "cell_type": "markdown",
   "metadata": {},
   "source": [
    "## Step 03\n",
    "Elements of the riddle found in the sourcecode of the page have been copied to ```step03.txt``` file.  \n",
    "Here we need to find in the text all small letters which are surrounded by EXACTLY 3 uppercase letters (before and after and exactly 3, no more).  \n",
    "*Note: this code does not work if there are special characters in the content. Better way: `[^A-Z]` instead of [a-z]*"
   ]
  },
  {
   "cell_type": "code",
   "execution_count": 23,
   "metadata": {},
   "outputs": [
    {
     "name": "stdout",
     "output_type": "stream",
     "text": [
      "linkedlist"
     ]
    }
   ],
   "source": [
    "import os\n",
    "import re\n",
    "# Assuming the kernel is running in this project directory (otherwise, adapt the line below)\n",
    "file_to_load = os.path.join(file_directory, 'step03.txt')\n",
    "content = ''\n",
    "if os.path.exists(file_to_load):\n",
    "    with open(file_to_load, 'rt') as f:\n",
    "        content = f.read()\n",
    "matches = re.findall('[a-z][A-Z]{3}([a-z])[A-Z]{3}[a-z]', content)\n",
    "for a_match in matches:\n",
    "    print(a_match, end=\"\")\n"
   ]
  },
  {
   "cell_type": "markdown",
   "metadata": {},
   "source": [
    "## Step 04\n",
    "Using requests to go to a new url each time we find a new number in the response content. Once the regexp does not match anymore it means we have solved the riddle. Next."
   ]
  },
  {
   "cell_type": "code",
   "execution_count": 5,
   "metadata": {},
   "outputs": [
    {
     "name": "stdout",
     "output_type": "stream",
     "text": [
      "25: and the next nothing is 64994\n",
      "50: and the next nothing is 75494\n",
      "75: and the next nothing is 76841\n",
      "100: and the next nothing is 87890\n",
      "125: and the next nothing is 73950\n",
      "150: and the next nothing is 31785\n",
      "No more next nothing, found this text instead: \"peak.html\" for addon_num=66831\n"
     ]
    }
   ],
   "source": [
    "import requests\n",
    "import re\n",
    "\n",
    "url = 'http://www.pythonchallenge.com/pc/def/linkedlist.php?nothing='\n",
    "#addon_num = '12345'\n",
    "addon_num = '8022'\n",
    "found = False\n",
    "counter = 0\n",
    "while not found:\n",
    "    r = requests.get(url + addon_num)\n",
    "    if r.text.find('and the next nothing is') < 0:\n",
    "        found = True\n",
    "        print('No more next nothing, found this text instead: \"{}\" for addon_num={}'.format(r.text, addon_num))\n",
    "    else:\n",
    "        addon_num = \"\".join(re.findall('.*and the next nothing is ([0-9]+)', r.text))\n",
    "    counter += 1\n",
    "    if counter % 25 == 0:\n",
    "        print(\"{}: {}\".format(counter, r.text))\n"
   ]
  },
  {
   "cell_type": "markdown",
   "metadata": {},
   "source": [
    "## Step 05\n",
    "Looking at the page codesource, we can see that there is an element with banner.p as source. The content has been copied into ```step05.p```file.  \n",
    "A quick search on the internet and it seems that `p` is the extension for files saved with pickle module (ohhh ok...peak hell, pickle...ok...).  \n",
    "Loaded the file with pickle and saw a list of tuples with either a space character either a dash, always followed by a number.   \n",
    "Tried to check if there was any chance it would mean: number of occurrences of spaces/dashes to draw on each line.  \n",
    "It worked. Next !"
   ]
  },
  {
   "cell_type": "code",
   "execution_count": 4,
   "metadata": {},
   "outputs": [
    {
     "name": "stdout",
     "output_type": "stream",
     "text": [
      "                                                                                               \n",
      "              #####                                                                      ##### \n",
      "               ####                                                                       #### \n",
      "               ####                                                                       #### \n",
      "               ####                                                                       #### \n",
      "               ####                                                                       #### \n",
      "               ####                                                                       #### \n",
      "               ####                                                                       #### \n",
      "               ####                                                                       #### \n",
      "      ###      ####   ###         ###       #####   ###    #####   ###          ###       #### \n",
      "   ###   ##    #### #######     ##  ###      #### #######   #### #######     ###  ###     #### \n",
      "  ###     ###  #####    ####   ###   ####    #####    ####  #####    ####   ###     ###   #### \n",
      " ###           ####     ####   ###    ###    ####     ####  ####     ####  ###      ####  #### \n",
      " ###           ####     ####          ###    ####     ####  ####     ####  ###       ###  #### \n",
      "####           ####     ####     ##   ###    ####     ####  ####     #### ####       ###  #### \n",
      "####           ####     ####   ##########    ####     ####  ####     #### ##############  #### \n",
      "####           ####     ####  ###    ####    ####     ####  ####     #### ####            #### \n",
      "####           ####     #### ####     ###    ####     ####  ####     #### ####            #### \n",
      " ###           ####     #### ####     ###    ####     ####  ####     ####  ###            #### \n",
      "  ###      ##  ####     ####  ###    ####    ####     ####  ####     ####   ###      ##   #### \n",
      "   ###    ##   ####     ####   ###########   ####     ####  ####     ####    ###    ##    #### \n",
      "      ###     ######    #####    ##    #### ######    ###########    #####      ###      ######\n",
      "                                                                                               \n"
     ]
    }
   ],
   "source": [
    "import pickle\n",
    "import os\n",
    "\n",
    "file_to_load = os.path.join(file_directory, 'step05.p')\n",
    "content = pickle.loads(open(file_to_load, \"rb\").read())\n",
    "for lines in content:\n",
    "    line = [character * nb_occ for character, nb_occ in lines]\n",
    "    print(\"\".join(line))\n"
   ]
  },
  {
   "cell_type": "markdown",
   "metadata": {},
   "source": [
    "# Step 06"
   ]
  },
  {
   "cell_type": "code",
   "execution_count": 16,
   "metadata": {},
   "outputs": [
    {
     "name": "stdout",
     "output_type": "stream",
     "text": [
      " \"atsnhtneyerllee. sjahpregee\" t>\n",
      "tsnhtneyerllee. sjahpregee\"\n",
      "eyrlee sah\n",
      "rlee s\n",
      "ntapohraweei\n"
     ]
    }
   ],
   "source": [
    "a = ' there are '\n",
    "b = '\"stylesheet'\n",
    "c = 'annel.jpg\">'\n",
    "\n",
    "d = 'there are'\n",
    "e = 'styleshee'\n",
    "f = 'nnel.jpg\"'\n",
    "\n",
    "g = 'ere a'\n",
    "h = 'ylesh'\n",
    "i = 'el.jp'\n",
    "\n",
    "j = 're '\n",
    "k = 'les'\n",
    "l = 'l.j'\n",
    "\n",
    "print(''.join(''.join(x) for x in zip(a, b, c)))\n",
    "print(''.join(''.join(x) for x in zip(d, e, f)))\n",
    "print(''.join(''.join(x) for x in zip(g, h)))\n",
    "print(''.join(''.join(x) for x in zip(j, k)))\n",
    "\n",
    "print(''.join(''.join(x) for x in zip('now', 'there', 'are', 'pairs')))"
   ]
  },
  {
   "cell_type": "code",
   "execution_count": null,
   "metadata": {},
   "outputs": [],
   "source": []
  }
 ],
 "metadata": {
  "kernelspec": {
   "display_name": "Python 3",
   "language": "python",
   "name": "python3"
  },
  "language_info": {
   "codemirror_mode": {
    "name": "ipython",
    "version": 3
   },
   "file_extension": ".py",
   "mimetype": "text/x-python",
   "name": "python",
   "nbconvert_exporter": "python",
   "pygments_lexer": "ipython3",
   "version": "3.7.1"
  }
 },
 "nbformat": 4,
 "nbformat_minor": 1
}
